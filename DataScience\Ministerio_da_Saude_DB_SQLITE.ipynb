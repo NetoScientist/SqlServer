{
  "nbformat": 4,
  "nbformat_minor": 0,
  "metadata": {
    "colab": {
      "name": "Ministerio da Saude DB SQLITE.ipynb",
      "provenance": [],
      "collapsed_sections": [],
      "toc_visible": true,
      "authorship_tag": "ABX9TyMf3YJYxjPPVTGTilFKPyDE",
      "include_colab_link": true
    },
    "kernelspec": {
      "name": "python3",
      "display_name": "Python 3"
    },
    "language_info": {
      "name": "python"
    }
  },
  "cells": [
    {
      "cell_type": "markdown",
      "metadata": {
        "id": "view-in-github",
        "colab_type": "text"
      },
      "source": [
        "<a href=\"https://colab.research.google.com/github/NetoScientist/SqlServer/blob/main/DataScience%5CMinisterio_da_Saude_DB_SQLITE.ipynb\" target=\"_parent\"><img src=\"https://colab.research.google.com/assets/colab-badge.svg\" alt=\"Open In Colab\"/></a>"
      ]
    },
    {
      "cell_type": "markdown",
      "metadata": {
        "id": "YOPVs4nXfMyE"
      },
      "source": [
        "## Importando Biblioteca\n"
      ]
    },
    {
      "cell_type": "code",
      "metadata": {
        "id": "mxtL6ci5e-xH"
      },
      "source": [
        "import pandas as pd\n",
        "from pandas import json_normalize\n",
        "import requests\n",
        "from sqlalchemy import create_engine"
      ],
      "execution_count": 68,
      "outputs": []
    },
    {
      "cell_type": "markdown",
      "metadata": {
        "id": "WOotGo2ifUKW"
      },
      "source": [
        "###Fazendo leitura via JSON\n",
        "\n",
        "[Documentação](https://opendatasus.saude.gov.br/dataset/b772ee55-07cd-44d8-958f-b12edd004e0b/resource/5916b3a4-81e7-4ad5-adb6-b884ff198dc1/download/manual_api_vacina_covid-19.pdf)\n",
        "\n",
        "URL para consumo da API Para consumir os dados disponibilizados pela API, utilizaremos a seguinte URL: https://imunizacao-es.saude.gov.br/_search Com a seguinte credencial de acesso:Usuário: imunizacao_public Senha: qlto5t&7r_@+#Tlstigi\n"
      ]
    },
    {
      "cell_type": "code",
      "metadata": {
        "id": "RA0AhP0JfRns"
      },
      "source": [
        "r = requests.get('https://imunizacao-es.saude.gov.br/_search', \n",
        "                 auth=('imunizacao_public', 'qlto5t&7r_@+#Tlstigi'))"
      ],
      "execution_count": 3,
      "outputs": []
    },
    {
      "cell_type": "code",
      "metadata": {
        "id": "LSyt6lTBihSA"
      },
      "source": [
        "json_content = r.json()"
      ],
      "execution_count": 4,
      "outputs": []
    },
    {
      "cell_type": "markdown",
      "metadata": {
        "id": "tSTJfc1hiQg-"
      },
      "source": [
        "Verifcando a tabela"
      ]
    },
    {
      "cell_type": "code",
      "metadata": {
        "colab": {
          "base_uri": "https://localhost:8080/",
          "height": 238
        },
        "id": "UWrHwbyNiCaY",
        "outputId": "2acf6f1d-ed62-452c-a56e-384ef4e1e904"
      },
      "source": [
        "df = pd.DataFrame(json_content)\n",
        "df"
      ],
      "execution_count": 6,
      "outputs": [
        {
          "output_type": "execute_result",
          "data": {
            "text/html": [
              "<div>\n",
              "<style scoped>\n",
              "    .dataframe tbody tr th:only-of-type {\n",
              "        vertical-align: middle;\n",
              "    }\n",
              "\n",
              "    .dataframe tbody tr th {\n",
              "        vertical-align: top;\n",
              "    }\n",
              "\n",
              "    .dataframe thead th {\n",
              "        text-align: right;\n",
              "    }\n",
              "</style>\n",
              "<table border=\"1\" class=\"dataframe\">\n",
              "  <thead>\n",
              "    <tr style=\"text-align: right;\">\n",
              "      <th></th>\n",
              "      <th>took</th>\n",
              "      <th>timed_out</th>\n",
              "      <th>_shards</th>\n",
              "      <th>hits</th>\n",
              "    </tr>\n",
              "  </thead>\n",
              "  <tbody>\n",
              "    <tr>\n",
              "      <th>total</th>\n",
              "      <td>1769</td>\n",
              "      <td>False</td>\n",
              "      <td>3.0</td>\n",
              "      <td>{'value': 10000, 'relation': 'gte'}</td>\n",
              "    </tr>\n",
              "    <tr>\n",
              "      <th>successful</th>\n",
              "      <td>1769</td>\n",
              "      <td>False</td>\n",
              "      <td>3.0</td>\n",
              "      <td>NaN</td>\n",
              "    </tr>\n",
              "    <tr>\n",
              "      <th>skipped</th>\n",
              "      <td>1769</td>\n",
              "      <td>False</td>\n",
              "      <td>0.0</td>\n",
              "      <td>NaN</td>\n",
              "    </tr>\n",
              "    <tr>\n",
              "      <th>failed</th>\n",
              "      <td>1769</td>\n",
              "      <td>False</td>\n",
              "      <td>0.0</td>\n",
              "      <td>NaN</td>\n",
              "    </tr>\n",
              "    <tr>\n",
              "      <th>max_score</th>\n",
              "      <td>1769</td>\n",
              "      <td>False</td>\n",
              "      <td>NaN</td>\n",
              "      <td>1</td>\n",
              "    </tr>\n",
              "    <tr>\n",
              "      <th>hits</th>\n",
              "      <td>1769</td>\n",
              "      <td>False</td>\n",
              "      <td>NaN</td>\n",
              "      <td>[{'_index': 'desc-imunizacao', '_type': '_doc'...</td>\n",
              "    </tr>\n",
              "  </tbody>\n",
              "</table>\n",
              "</div>"
            ],
            "text/plain": [
              "            took  ...                                               hits\n",
              "total       1769  ...                {'value': 10000, 'relation': 'gte'}\n",
              "successful  1769  ...                                                NaN\n",
              "skipped     1769  ...                                                NaN\n",
              "failed      1769  ...                                                NaN\n",
              "max_score   1769  ...                                                  1\n",
              "hits        1769  ...  [{'_index': 'desc-imunizacao', '_type': '_doc'...\n",
              "\n",
              "[6 rows x 4 columns]"
            ]
          },
          "metadata": {
            "tags": []
          },
          "execution_count": 6
        }
      ]
    },
    {
      "cell_type": "markdown",
      "metadata": {
        "id": "T_TGkxVyiVWW"
      },
      "source": [
        "Testando a estrutura"
      ]
    },
    {
      "cell_type": "code",
      "metadata": {
        "colab": {
          "base_uri": "https://localhost:8080/"
        },
        "id": "B7K27nDPzsQ6",
        "outputId": "e30a5c52-67c5-43dc-beee-c68b0ce5c34c"
      },
      "source": [
        "json_content['hits']['hits'][0]"
      ],
      "execution_count": 7,
      "outputs": [
        {
          "output_type": "execute_result",
          "data": {
            "text/plain": [
              "{'_id': '0eebbacc-1fa8-4447-b839-010e714f512b-i0b0',\n",
              " '_index': 'desc-imunizacao',\n",
              " '_score': 1.0,\n",
              " '_source': {'@timestamp': '2021-04-22T20:51:12.669Z',\n",
              "  '@version': '1',\n",
              "  'data_importacao_rnds': '2021-04-17 13:03:41',\n",
              "  'document_id': '0eebbacc-1fa8-4447-b839-010e714f512b-i0b0',\n",
              "  'estabelecimento_municipio_codigo': '291080',\n",
              "  'estabelecimento_municipio_nome': 'FEIRA DE SANTANA',\n",
              "  'estabelecimento_razaoSocial': 'PREFEITURA MUNICIPAL DE FEIRA DE SANTANA',\n",
              "  'estabelecimento_uf': 'BA',\n",
              "  'estabelecimento_valor': '7430671',\n",
              "  'estalecimento_noFantasia': 'REDE FRIO',\n",
              "  'id_sistema_origem': '17958',\n",
              "  'paciente_dataNascimento': '1959-07-02',\n",
              "  'paciente_endereco_cep': '44068',\n",
              "  'paciente_endereco_coIbgeMunicipio': '291080',\n",
              "  'paciente_endereco_coPais': '10',\n",
              "  'paciente_endereco_nmMunicipio': 'FEIRA DE SANTANA',\n",
              "  'paciente_endereco_nmPais': 'BRASIL',\n",
              "  'paciente_endereco_uf': 'BA',\n",
              "  'paciente_enumSexoBiologico': 'M',\n",
              "  'paciente_id': '03fcfb7ca3b42888eb61871960b9a9af74b1154844afd2a650571234f13276c4',\n",
              "  'paciente_idade': 61,\n",
              "  'paciente_nacionalidade_enumNacionalidade': 'B',\n",
              "  'paciente_racaCor_codigo': '99',\n",
              "  'paciente_racaCor_valor': 'SEM INFORMACAO',\n",
              "  'sistema_origem': 'IDS Saúde',\n",
              "  'vacina_codigo': '85',\n",
              "  'vacina_dataAplicacao': '2021-04-17T00:00:00.000Z',\n",
              "  'vacina_descricao_dose': '\\xa0\\xa0\\xa0\\xa01ª\\xa0Dose',\n",
              "  'vacina_fabricante_nome': 'FUNDACAO OSWALDO CRUZ',\n",
              "  'vacina_grupoAtendimento_codigo': '001003',\n",
              "  'vacina_lote': '32401',\n",
              "  'vacina_nome': 'Vacina Covid-19 - Covishield'},\n",
              " '_type': '_doc'}"
            ]
          },
          "metadata": {
            "tags": []
          },
          "execution_count": 7
        }
      ]
    },
    {
      "cell_type": "markdown",
      "metadata": {
        "id": "chEWTMjei2Jv"
      },
      "source": [
        "Testando com 10 K"
      ]
    },
    {
      "cell_type": "code",
      "metadata": {
        "id": "xSX3qzlZrcFL"
      },
      "source": [
        "r_scroll = requests.post('https://imunizacao-es.saude.gov.br/_search?scroll=1m', \n",
        "                 auth=('imunizacao_public', 'qlto5t&7r_@+#Tlstigi'), \n",
        "                 json={'size': 10000})"
      ],
      "execution_count": 11,
      "outputs": []
    },
    {
      "cell_type": "code",
      "metadata": {
        "id": "uZ4iIH34r92F"
      },
      "source": [
        "scroll = r_scroll.json()"
      ],
      "execution_count": 12,
      "outputs": []
    },
    {
      "cell_type": "markdown",
      "metadata": {
        "id": "xBOBXH_oi7F6"
      },
      "source": [
        "Verificando as colunas"
      ]
    },
    {
      "cell_type": "code",
      "metadata": {
        "id": "vvUUuvca21FG"
      },
      "source": [
        "cols = scroll['hits']['hits'][0]['_source'].keys()"
      ],
      "execution_count": 46,
      "outputs": []
    },
    {
      "cell_type": "code",
      "metadata": {
        "colab": {
          "base_uri": "https://localhost:8080/"
        },
        "id": "z5RcmTfs5GWG",
        "outputId": "5223681d-6d97-47be-d0d0-4828be90e4df"
      },
      "source": [
        "cols"
      ],
      "execution_count": 47,
      "outputs": [
        {
          "output_type": "execute_result",
          "data": {
            "text/plain": [
              "dict_keys(['paciente_id', 'document_id', 'paciente_endereco_coIbgeMunicipio', 'vacina_categoria_codigo', '@timestamp', 'estabelecimento_razaoSocial', 'vacina_codigo', 'estabelecimento_municipio_codigo', 'paciente_nacionalidade_enumNacionalidade', 'vacina_categoria_nome', 'vacina_grupoAtendimento_codigo', 'paciente_endereco_nmPais', 'vacina_dataAplicacao', 'estabelecimento_municipio_nome', 'paciente_endereco_coPais', 'vacina_lote', 'sistema_origem', 'vacina_nome', '@version', 'paciente_endereco_uf', 'estalecimento_noFantasia', 'vacina_grupoAtendimento_nome', 'vacina_fabricante_nome', 'estabelecimento_uf', 'paciente_racaCor_codigo', 'vacina_descricao_dose', 'paciente_racaCor_valor', 'paciente_enumSexoBiologico', 'data_importacao_rnds', 'id_sistema_origem', 'paciente_dataNascimento', 'estabelecimento_valor', 'paciente_endereco_cep', 'paciente_idade', 'paciente_endereco_nmMunicipio'])"
            ]
          },
          "metadata": {
            "tags": []
          },
          "execution_count": 47
        }
      ]
    },
    {
      "cell_type": "markdown",
      "metadata": {
        "id": "HFHv0xhfjAqy"
      },
      "source": [
        "Criando Series PANDAS"
      ]
    },
    {
      "cell_type": "code",
      "metadata": {
        "id": "vEShjAuRPLYr"
      },
      "source": [
        "source = []\n",
        "for item in scroll['hits']['hits']:\n",
        "  source.append(pd.Series(item['_source']))\n"
      ],
      "execution_count": 62,
      "outputs": []
    },
    {
      "cell_type": "code",
      "metadata": {
        "colab": {
          "base_uri": "https://localhost:8080/",
          "height": 383
        },
        "id": "EimnyTPMQKVS",
        "outputId": "68c838c3-35c3-4205-da59-43a0193b39ee"
      },
      "source": [
        "df_hits = pd.DataFrame(source)\n",
        "df_hits.head()"
      ],
      "execution_count": 66,
      "outputs": [
        {
          "output_type": "execute_result",
          "data": {
            "text/html": [
              "<div>\n",
              "<style scoped>\n",
              "    .dataframe tbody tr th:only-of-type {\n",
              "        vertical-align: middle;\n",
              "    }\n",
              "\n",
              "    .dataframe tbody tr th {\n",
              "        vertical-align: top;\n",
              "    }\n",
              "\n",
              "    .dataframe thead th {\n",
              "        text-align: right;\n",
              "    }\n",
              "</style>\n",
              "<table border=\"1\" class=\"dataframe\">\n",
              "  <thead>\n",
              "    <tr style=\"text-align: right;\">\n",
              "      <th></th>\n",
              "      <th>paciente_id</th>\n",
              "      <th>document_id</th>\n",
              "      <th>paciente_endereco_coIbgeMunicipio</th>\n",
              "      <th>vacina_categoria_codigo</th>\n",
              "      <th>@timestamp</th>\n",
              "      <th>estabelecimento_razaoSocial</th>\n",
              "      <th>vacina_codigo</th>\n",
              "      <th>estabelecimento_municipio_codigo</th>\n",
              "      <th>paciente_nacionalidade_enumNacionalidade</th>\n",
              "      <th>vacina_categoria_nome</th>\n",
              "      <th>vacina_grupoAtendimento_codigo</th>\n",
              "      <th>paciente_endereco_nmPais</th>\n",
              "      <th>vacina_dataAplicacao</th>\n",
              "      <th>estabelecimento_municipio_nome</th>\n",
              "      <th>paciente_endereco_coPais</th>\n",
              "      <th>vacina_lote</th>\n",
              "      <th>sistema_origem</th>\n",
              "      <th>vacina_nome</th>\n",
              "      <th>@version</th>\n",
              "      <th>paciente_endereco_uf</th>\n",
              "      <th>estalecimento_noFantasia</th>\n",
              "      <th>vacina_grupoAtendimento_nome</th>\n",
              "      <th>vacina_fabricante_nome</th>\n",
              "      <th>estabelecimento_uf</th>\n",
              "      <th>paciente_racaCor_codigo</th>\n",
              "      <th>vacina_descricao_dose</th>\n",
              "      <th>paciente_racaCor_valor</th>\n",
              "      <th>paciente_enumSexoBiologico</th>\n",
              "      <th>data_importacao_rnds</th>\n",
              "      <th>id_sistema_origem</th>\n",
              "      <th>paciente_dataNascimento</th>\n",
              "      <th>estabelecimento_valor</th>\n",
              "      <th>paciente_endereco_cep</th>\n",
              "      <th>paciente_idade</th>\n",
              "      <th>paciente_endereco_nmMunicipio</th>\n",
              "      <th>vacina_fabricante_referencia</th>\n",
              "    </tr>\n",
              "  </thead>\n",
              "  <tbody>\n",
              "    <tr>\n",
              "      <th>0</th>\n",
              "      <td>1d6a071be89105915e8356984b12095912d4c132414a56...</td>\n",
              "      <td>04219b39-7515-496b-abb2-2cb3f2d36bab-i0b0</td>\n",
              "      <td>352930</td>\n",
              "      <td>2</td>\n",
              "      <td>2021-04-22T20:39:14.448Z</td>\n",
              "      <td>SOCIEDADE MATONENSE DE BENEMERENCIA</td>\n",
              "      <td>86</td>\n",
              "      <td>352930</td>\n",
              "      <td>E</td>\n",
              "      <td>Faixa Etária</td>\n",
              "      <td>000201</td>\n",
              "      <td>BRASIL</td>\n",
              "      <td>2021-01-22T00:00:00.000Z</td>\n",
              "      <td>MATAO</td>\n",
              "      <td>10</td>\n",
              "      <td>202010033</td>\n",
              "      <td>VACIVIDA</td>\n",
              "      <td>Covid-19-Coronavac-Sinovac/Butantan</td>\n",
              "      <td>1</td>\n",
              "      <td>SP</td>\n",
              "      <td>HOSPITAL CARLOS FERNANDO MALZONI MATAO</td>\n",
              "      <td>Pessoas de 60 a 64 anos</td>\n",
              "      <td>SINOVAC</td>\n",
              "      <td>SP</td>\n",
              "      <td>01</td>\n",
              "      <td>1ª Dose</td>\n",
              "      <td>BRANCA</td>\n",
              "      <td>M</td>\n",
              "      <td>2021-01-22 03:01:00</td>\n",
              "      <td>18262</td>\n",
              "      <td>1959-10-05</td>\n",
              "      <td>2090961</td>\n",
              "      <td>15997</td>\n",
              "      <td>61</td>\n",
              "      <td>MATAO</td>\n",
              "      <td>NaN</td>\n",
              "    </tr>\n",
              "    <tr>\n",
              "      <th>1</th>\n",
              "      <td>6863519797fe60a5b19623ce23bfa3f08044388363a0c6...</td>\n",
              "      <td>f99e6248-8188-4ca3-9307-2e2a700b11e9-i0b0</td>\n",
              "      <td>353470</td>\n",
              "      <td>2</td>\n",
              "      <td>2021-04-22T20:39:14.800Z</td>\n",
              "      <td>PREFEITURA MUNICIPAL DE OURINHOS</td>\n",
              "      <td>86</td>\n",
              "      <td>353470</td>\n",
              "      <td>B</td>\n",
              "      <td>Faixa Etária</td>\n",
              "      <td>000204</td>\n",
              "      <td>BRASIL</td>\n",
              "      <td>2021-04-05T00:00:00.000Z</td>\n",
              "      <td>OURINHOS</td>\n",
              "      <td>10</td>\n",
              "      <td>210091</td>\n",
              "      <td>VACIVIDA</td>\n",
              "      <td>Covid-19-Coronavac-Sinovac/Butantan</td>\n",
              "      <td>1</td>\n",
              "      <td>SP</td>\n",
              "      <td>UBS VILA MARGARIDA</td>\n",
              "      <td>Pessoas de 75 a 79 anos</td>\n",
              "      <td>SINOVAC</td>\n",
              "      <td>SP</td>\n",
              "      <td>01</td>\n",
              "      <td>2ª Dose</td>\n",
              "      <td>BRANCA</td>\n",
              "      <td>F</td>\n",
              "      <td>2021-04-05 03:00:00</td>\n",
              "      <td>18262</td>\n",
              "      <td>1944-07-24</td>\n",
              "      <td>2046482</td>\n",
              "      <td>19907</td>\n",
              "      <td>76</td>\n",
              "      <td>OURINHOS</td>\n",
              "      <td>NaN</td>\n",
              "    </tr>\n",
              "    <tr>\n",
              "      <th>2</th>\n",
              "      <td>f9666ceab4de760ea690ae23ad6380ec6a28aa071bfa1d...</td>\n",
              "      <td>79e0e12e-3208-4e70-8d29-a6a509448fba-i0b0</td>\n",
              "      <td>240450</td>\n",
              "      <td>9</td>\n",
              "      <td>2021-04-22T20:39:15.011Z</td>\n",
              "      <td>PREFEITURA MUNICIPAL DE GUAMARE</td>\n",
              "      <td>86</td>\n",
              "      <td>240450</td>\n",
              "      <td>B</td>\n",
              "      <td>Trabalhadores de Saúde</td>\n",
              "      <td>000923</td>\n",
              "      <td>BRASIL</td>\n",
              "      <td>2021-01-21T00:00:00.000Z</td>\n",
              "      <td>GUAMARE</td>\n",
              "      <td>10</td>\n",
              "      <td>202010028</td>\n",
              "      <td>RN + Vacina</td>\n",
              "      <td>Covid-19-Coronavac-Sinovac/Butantan</td>\n",
              "      <td>1</td>\n",
              "      <td>RN</td>\n",
              "      <td>UNIDADE BASICA DE GUAMARE</td>\n",
              "      <td>Técnico de Enfermagem</td>\n",
              "      <td>FUNDACAO BUTANTAN</td>\n",
              "      <td>RN</td>\n",
              "      <td>99</td>\n",
              "      <td>1ª Dose</td>\n",
              "      <td>SEM INFORMACAO</td>\n",
              "      <td>F</td>\n",
              "      <td>2021-03-19 01:54:28</td>\n",
              "      <td>17862</td>\n",
              "      <td>1968-12-05</td>\n",
              "      <td>3686019</td>\n",
              "      <td>59598</td>\n",
              "      <td>52</td>\n",
              "      <td>GUAMARE</td>\n",
              "      <td>NaN</td>\n",
              "    </tr>\n",
              "    <tr>\n",
              "      <th>3</th>\n",
              "      <td>1513cc0ec3354a554a6e0065617110d153406e33a51429...</td>\n",
              "      <td>bf980662-e1a2-46b3-bdd8-2ab4d5b8106d-i0b0</td>\n",
              "      <td>320500</td>\n",
              "      <td>9</td>\n",
              "      <td>2021-04-22T20:39:15.042Z</td>\n",
              "      <td>PREFEITURA MUNICIPAL DA SERRA</td>\n",
              "      <td>85</td>\n",
              "      <td>320500</td>\n",
              "      <td>B</td>\n",
              "      <td>Trabalhadores de Saúde</td>\n",
              "      <td>000926</td>\n",
              "      <td>BRASIL</td>\n",
              "      <td>2021-01-29T03:00:00.000Z</td>\n",
              "      <td>SERRA</td>\n",
              "      <td>10</td>\n",
              "      <td>4120Z005</td>\n",
              "      <td>Novo PNI</td>\n",
              "      <td>Vacina Covid-19 - Covishield</td>\n",
              "      <td>1</td>\n",
              "      <td>ES</td>\n",
              "      <td>UNIDADE REGIONAL DE SAUDE PEDRO FEU ROSA</td>\n",
              "      <td>Outros</td>\n",
              "      <td>FUNDACAO OSWALDO CRUZ</td>\n",
              "      <td>ES</td>\n",
              "      <td>03</td>\n",
              "      <td>1ª Dose</td>\n",
              "      <td>PARDA</td>\n",
              "      <td>F</td>\n",
              "      <td>2021-02-04 12:03:23</td>\n",
              "      <td>16341</td>\n",
              "      <td>1968-10-31</td>\n",
              "      <td>2499436</td>\n",
              "      <td>29165</td>\n",
              "      <td>52</td>\n",
              "      <td>SERRA</td>\n",
              "      <td>Organization/33781055000135</td>\n",
              "    </tr>\n",
              "    <tr>\n",
              "      <th>4</th>\n",
              "      <td>6bd0f6e65ce6d0c08099fa547ecfe52e5dfcb454653d91...</td>\n",
              "      <td>d8942cc6-bd3b-495e-9602-778fffc96504-i0b0</td>\n",
              "      <td>353800</td>\n",
              "      <td>9</td>\n",
              "      <td>2021-04-22T20:39:15.241Z</td>\n",
              "      <td>MUNICIPIO DE PINDAMONHANGABA</td>\n",
              "      <td>86</td>\n",
              "      <td>353800</td>\n",
              "      <td>B</td>\n",
              "      <td>Trabalhadores de Saúde</td>\n",
              "      <td>000926</td>\n",
              "      <td>BRASIL</td>\n",
              "      <td>2021-01-22T00:00:00.000Z</td>\n",
              "      <td>PINDAMONHANGABA</td>\n",
              "      <td>10</td>\n",
              "      <td>202010033</td>\n",
              "      <td>VACIVIDA</td>\n",
              "      <td>Covid-19-Coronavac-Sinovac/Butantan</td>\n",
              "      <td>1</td>\n",
              "      <td>SP</td>\n",
              "      <td>UNIDADE BASICA DE SAUDE CENTRO PINDAMONHANGABA</td>\n",
              "      <td>Outros</td>\n",
              "      <td>SINOVAC</td>\n",
              "      <td>SP</td>\n",
              "      <td>01</td>\n",
              "      <td>1ª Dose</td>\n",
              "      <td>BRANCA</td>\n",
              "      <td>M</td>\n",
              "      <td>2021-01-22 17:01:25</td>\n",
              "      <td>18262</td>\n",
              "      <td>1981-04-06</td>\n",
              "      <td>2755068</td>\n",
              "      <td>12420</td>\n",
              "      <td>39</td>\n",
              "      <td>PINDAMONHANGABA</td>\n",
              "      <td>NaN</td>\n",
              "    </tr>\n",
              "  </tbody>\n",
              "</table>\n",
              "</div>"
            ],
            "text/plain": [
              "                                         paciente_id  ... vacina_fabricante_referencia\n",
              "0  1d6a071be89105915e8356984b12095912d4c132414a56...  ...                          NaN\n",
              "1  6863519797fe60a5b19623ce23bfa3f08044388363a0c6...  ...                          NaN\n",
              "2  f9666ceab4de760ea690ae23ad6380ec6a28aa071bfa1d...  ...                          NaN\n",
              "3  1513cc0ec3354a554a6e0065617110d153406e33a51429...  ...  Organization/33781055000135\n",
              "4  6bd0f6e65ce6d0c08099fa547ecfe52e5dfcb454653d91...  ...                          NaN\n",
              "\n",
              "[5 rows x 36 columns]"
            ]
          },
          "metadata": {
            "tags": []
          },
          "execution_count": 66
        }
      ]
    },
    {
      "cell_type": "code",
      "metadata": {
        "id": "gafLi6hzTRNz"
      },
      "source": [
        "save_df = df_hits"
      ],
      "execution_count": 67,
      "outputs": []
    },
    {
      "cell_type": "code",
      "metadata": {
        "id": "fuSFqqzsjuLx"
      },
      "source": [
        "engine = create_engine('sqlite:///save_dfpandas.db', echo=True)\n",
        "sqlite_connection = engine.connect()"
      ],
      "execution_count": 69,
      "outputs": []
    },
    {
      "cell_type": "code",
      "metadata": {
        "colab": {
          "base_uri": "https://localhost:8080/"
        },
        "id": "6r3wd0pAj80q",
        "outputId": "d0cd6d2a-8fb1-4307-c59c-5d27fda875aa"
      },
      "source": [
        "sqlite_table = \"API_SAUDE\"\n",
        "save_df.to_sql(sqlite_table, sqlite_connection, if_exists='fail')"
      ],
      "execution_count": 70,
      "outputs": [
        {
          "output_type": "stream",
          "text": [
            "2021-05-03 18:50:02,053 INFO sqlalchemy.engine.Engine PRAGMA main.table_info(\"API_SAUDE\")\n",
            "2021-05-03 18:50:02,055 INFO sqlalchemy.engine.Engine [raw sql] ()\n",
            "2021-05-03 18:50:02,059 INFO sqlalchemy.engine.Engine PRAGMA temp.table_info(\"API_SAUDE\")\n",
            "2021-05-03 18:50:02,060 INFO sqlalchemy.engine.Engine [raw sql] ()\n",
            "2021-05-03 18:50:02,074 INFO sqlalchemy.engine.Engine \n",
            "CREATE TABLE \"API_SAUDE\" (\n",
            "\t\"index\" BIGINT, \n",
            "\tpaciente_id TEXT, \n",
            "\tdocument_id TEXT, \n",
            "\t\"paciente_endereco_coIbgeMunicipio\" TEXT, \n",
            "\tvacina_categoria_codigo TEXT, \n",
            "\t\"@timestamp\" TEXT, \n",
            "\t\"estabelecimento_razaoSocial\" TEXT, \n",
            "\tvacina_codigo TEXT, \n",
            "\testabelecimento_municipio_codigo TEXT, \n",
            "\t\"paciente_nacionalidade_enumNacionalidade\" TEXT, \n",
            "\tvacina_categoria_nome TEXT, \n",
            "\t\"vacina_grupoAtendimento_codigo\" TEXT, \n",
            "\t\"paciente_endereco_nmPais\" TEXT, \n",
            "\t\"vacina_dataAplicacao\" TEXT, \n",
            "\testabelecimento_municipio_nome TEXT, \n",
            "\t\"paciente_endereco_coPais\" TEXT, \n",
            "\tvacina_lote TEXT, \n",
            "\tsistema_origem TEXT, \n",
            "\tvacina_nome TEXT, \n",
            "\t\"@version\" TEXT, \n",
            "\tpaciente_endereco_uf TEXT, \n",
            "\t\"estalecimento_noFantasia\" TEXT, \n",
            "\t\"vacina_grupoAtendimento_nome\" TEXT, \n",
            "\tvacina_fabricante_nome TEXT, \n",
            "\testabelecimento_uf TEXT, \n",
            "\t\"paciente_racaCor_codigo\" TEXT, \n",
            "\tvacina_descricao_dose TEXT, \n",
            "\t\"paciente_racaCor_valor\" TEXT, \n",
            "\t\"paciente_enumSexoBiologico\" TEXT, \n",
            "\tdata_importacao_rnds TEXT, \n",
            "\tid_sistema_origem TEXT, \n",
            "\t\"paciente_dataNascimento\" TEXT, \n",
            "\testabelecimento_valor TEXT, \n",
            "\tpaciente_endereco_cep TEXT, \n",
            "\tpaciente_idade BIGINT, \n",
            "\t\"paciente_endereco_nmMunicipio\" TEXT, \n",
            "\tvacina_fabricante_referencia TEXT\n",
            ")\n",
            "\n",
            "\n",
            "2021-05-03 18:50:02,076 INFO sqlalchemy.engine.Engine [no key 0.00151s] ()\n",
            "2021-05-03 18:50:02,096 INFO sqlalchemy.engine.Engine COMMIT\n",
            "2021-05-03 18:50:02,099 INFO sqlalchemy.engine.Engine CREATE INDEX \"ix_API_SAUDE_index\" ON \"API_SAUDE\" (\"index\")\n",
            "2021-05-03 18:50:02,101 INFO sqlalchemy.engine.Engine [no key 0.00212s] ()\n",
            "2021-05-03 18:50:02,116 INFO sqlalchemy.engine.Engine COMMIT\n",
            "2021-05-03 18:50:02,164 INFO sqlalchemy.engine.Engine BEGIN (implicit)\n",
            "2021-05-03 18:50:02,861 INFO sqlalchemy.engine.Engine INSERT INTO \"API_SAUDE\" (\"index\", paciente_id, document_id, \"paciente_endereco_coIbgeMunicipio\", vacina_categoria_codigo, \"@timestamp\", \"estabelecimento_razaoSocial\", vacina_codigo, estabelecimento_municipio_codigo, \"paciente_nacionalidade_enumNacionalidade\", vacina_categoria_nome, \"vacina_grupoAtendimento_codigo\", \"paciente_endereco_nmPais\", \"vacina_dataAplicacao\", estabelecimento_municipio_nome, \"paciente_endereco_coPais\", vacina_lote, sistema_origem, vacina_nome, \"@version\", paciente_endereco_uf, \"estalecimento_noFantasia\", \"vacina_grupoAtendimento_nome\", vacina_fabricante_nome, estabelecimento_uf, \"paciente_racaCor_codigo\", vacina_descricao_dose, \"paciente_racaCor_valor\", \"paciente_enumSexoBiologico\", data_importacao_rnds, id_sistema_origem, \"paciente_dataNascimento\", estabelecimento_valor, paciente_endereco_cep, paciente_idade, \"paciente_endereco_nmMunicipio\", vacina_fabricante_referencia) VALUES (?, ?, ?, ?, ?, ?, ?, ?, ?, ?, ?, ?, ?, ?, ?, ?, ?, ?, ?, ?, ?, ?, ?, ?, ?, ?, ?, ?, ?, ?, ?, ?, ?, ?, ?, ?, ?)\n",
            "2021-05-03 18:50:02,862 INFO sqlalchemy.engine.Engine [generated in 0.65205s] ((0, '1d6a071be89105915e8356984b12095912d4c132414a56384a0e3a0ab5c8c384', '04219b39-7515-496b-abb2-2cb3f2d36bab-i0b0', '352930', '2', '2021-04-22T20:39:14.448Z', 'SOCIEDADE MATONENSE DE BENEMERENCIA', '86', '352930', 'E', 'Faixa Etária', '000201', 'BRASIL', '2021-01-22T00:00:00.000Z', 'MATAO', '10', '202010033', 'VACIVIDA', 'Covid-19-Coronavac-Sinovac/Butantan', '1', 'SP', 'HOSPITAL CARLOS FERNANDO MALZONI MATAO', 'Pessoas de 60 a 64 anos', 'SINOVAC', 'SP', '01', '\\xa0\\xa0\\xa0\\xa01ª\\xa0Dose', 'BRANCA', 'M', '2021-01-22 03:01:00', '18262', '1959-10-05', '2090961', '15997', 61, 'MATAO', None), (1, '6863519797fe60a5b19623ce23bfa3f08044388363a0c6354a39ff75e1f48434', 'f99e6248-8188-4ca3-9307-2e2a700b11e9-i0b0', '353470', '2', '2021-04-22T20:39:14.800Z', 'PREFEITURA MUNICIPAL DE OURINHOS', '86', '353470', 'B', 'Faixa Etária', '000204', 'BRASIL', '2021-04-05T00:00:00.000Z', 'OURINHOS', '10', '210091', 'VACIVIDA', 'Covid-19-Coronavac-Sinovac/Butantan', '1', 'SP', 'UBS VILA MARGARIDA', 'Pessoas de 75 a 79 anos', 'SINOVAC', 'SP', '01', '\\xa0\\xa0\\xa0\\xa02ª\\xa0Dose', 'BRANCA', 'F', '2021-04-05 03:00:00', '18262', '1944-07-24', '2046482', '19907', 76, 'OURINHOS', None), (2, 'f9666ceab4de760ea690ae23ad6380ec6a28aa071bfa1d4575b7619fd35c7fae', '79e0e12e-3208-4e70-8d29-a6a509448fba-i0b0', '240450', '9', '2021-04-22T20:39:15.011Z', 'PREFEITURA MUNICIPAL DE GUAMARE', '86', '240450', 'B', 'Trabalhadores de Saúde', '000923', 'BRASIL', '2021-01-21T00:00:00.000Z', 'GUAMARE', '10', '202010028', 'RN + Vacina', 'Covid-19-Coronavac-Sinovac/Butantan', '1', 'RN', 'UNIDADE BASICA DE GUAMARE', 'Técnico de Enfermagem', 'FUNDACAO BUTANTAN', 'RN', '99', '\\xa0\\xa0\\xa0\\xa01ª\\xa0Dose', 'SEM INFORMACAO', 'F', '2021-03-19 01:54:28', '17862', '1968-12-05', '3686019', '59598', 52, 'GUAMARE', None), (3, '1513cc0ec3354a554a6e0065617110d153406e33a51429e90973c31a1a5afe4e', 'bf980662-e1a2-46b3-bdd8-2ab4d5b8106d-i0b0', '320500', '9', '2021-04-22T20:39:15.042Z', 'PREFEITURA MUNICIPAL DA SERRA', '85', '320500', 'B', 'Trabalhadores de Saúde', '000926', 'BRASIL', '2021-01-29T03:00:00.000Z', 'SERRA', '10', '\\xa04120Z005', 'Novo PNI', 'Vacina Covid-19 - Covishield', '1', 'ES', 'UNIDADE REGIONAL DE SAUDE PEDRO FEU ROSA', 'Outros', 'FUNDACAO OSWALDO CRUZ', 'ES', '03', '\\xa0\\xa0\\xa0\\xa01ª\\xa0Dose', 'PARDA', 'F', '2021-02-04 12:03:23', '16341', '1968-10-31', '2499436', '29165', 52, 'SERRA', 'Organization/33781055000135'), (4, '6bd0f6e65ce6d0c08099fa547ecfe52e5dfcb454653d915fd8e0422dbf6bffcb', 'd8942cc6-bd3b-495e-9602-778fffc96504-i0b0', '353800', '9', '2021-04-22T20:39:15.241Z', 'MUNICIPIO DE PINDAMONHANGABA', '86', '353800', 'B', 'Trabalhadores de Saúde', '000926', 'BRASIL', '2021-01-22T00:00:00.000Z', 'PINDAMONHANGABA', '10', '202010033', 'VACIVIDA', 'Covid-19-Coronavac-Sinovac/Butantan', '1', 'SP', 'UNIDADE BASICA DE SAUDE CENTRO PINDAMONHANGABA', 'Outros', 'SINOVAC', 'SP', '01', '\\xa0\\xa0\\xa0\\xa01ª\\xa0Dose', 'BRANCA', 'M', '2021-01-22 17:01:25', '18262', '1981-04-06', '2755068', '12420', 39, 'PINDAMONHANGABA', None), (5, '40b024e18e0592f36b166a47c19492def4f5e466e5c320fac8083bb6cff12be1', '80f24da4-fe80-40b1-b106-a75ed724fce0-i0b0', '353710', '2', '2021-04-22T20:39:15.253Z', 'PREFEITURA MUNICIPAL DE PEDREIRA', '86', '353710', 'B', 'Faixa Etária', '000205', 'BRASIL', '2021-03-04T00:00:00.000Z', 'PEDREIRA', '10', '210037', 'VACIVIDA', 'Covid-19-Coronavac-Sinovac/Butantan', '1', 'SP', 'USF DRA SONIA OLIVEIRA MARTINS PEDREIRA', 'Pessoas de 80 anos ou mais', 'SINOVAC', 'SP', '03', '\\xa0\\xa0\\xa0\\xa01ª\\xa0Dose', 'PARDA', 'M', '2021-03-04 03:00:00', '18262', '1932-07-10', '2030802', '13920', 88, 'PEDREIRA', None), (6, '021b358c3962289eb3a04d5c2fbee6600d41a85a3c4438b21cb8c5691c716091', 'f150080b-7e24-422b-9b6d-d8e789d9ab1c-i0b0', '315780', '9', '2021-04-22T20:39:16.180Z', 'SERVICO SOCIAL DO COMERCIO ADMINISTRACAO REGIONAL NO ESTAD', '85', '310620', 'B', 'Trabalhadores de Saúde', '000919', 'BRASIL', '2021-02-11T03:00:00.000Z', 'BELO HORIZONTE', '10', '4120Z005', 'Novo PNI', 'Vacina Covid-19 - Covishield', '1', 'MG', 'CENTRO DE EXCELENCIA EM SAUDE', 'Psicólogo', 'FUNDACAO OSWALDO CRUZ', 'MG', '04', '\\xa0\\xa0\\xa0\\xa01ª\\xa0Dose', 'AMARELA', 'F', '2021-02-11 14:54:08', '16341', '1981-12-28', '6997139', '33120', 39, 'SANTA LUZIA', 'Organization/33781055000135'), (7, '9ce7af1ea3238efcdeafe4c09cbf8431e72f3f8ccc6e1385419d78167763d7d4', 'ff5ec633-043c-443f-be5d-e8fa9412c4ff-i0b0', '230440', '2', '2021-04-22T20:39:16.181Z', 'SECRETARIA MUNICIPAL DA SAUDE FORTALEZA', '85', '230440', 'B', 'Faixa Etária', '000205', 'BRASIL', '2021-02-25T00:00:00.000Z', 'FORTALEZA', '10', '4120Z026', 'Fastmedic - FastSaude', 'Vacina Covid-19 - Covishield', '1', 'CE', 'UAPS REGIS JUCA', 'Pessoas de 80 anos ou mais', 'FIOCRUZ - FUNDACAO OSWALDO CRUZ', 'CE', '01', '\\xa0\\xa0\\xa0\\xa01ª\\xa0Dose', 'BRANCA', 'F', '2021-02-25 15:00:00', '18921', '1937-06-29', '9574514', '60351', 83, 'FORTALEZA', 'FIOCRUZ - FUNDACAO OSWALDO CRUZ/33781055000135')  ... displaying 10 of 10000 total bound parameter sets ...  (9998, 'c3dbdb876b029ce9467a4fa45168363de97ca916fedc94395743a5741215173c', '527eca91-3bd4-4193-9cca-920c10cfaf97-i0b0', '311580', '9', '2021-04-22T20:44:24.605Z', 'PREFEITURA MUNICIPAL DE CENTRALINA MG', '86', '311580', 'B', 'Trabalhadores de Saúde', '000914', 'BRASIL', '2021-01-20T03:00:00.000Z', 'CENTRALINA', '10', '202010038', 'Novo PNI', 'Covid-19-Coronavac-Sinovac/Butantan', '1', 'MG', 'PSF CASA DE SAUDE D MARIA TOSTA', 'Motorista de Ambulância', 'FUNDACAO BUTANTAN', 'MG', '04', '\\xa0\\xa0\\xa0\\xa01ª\\xa0Dose', 'AMARELA', 'M', '2021-02-18 18:02:46', '16341', '1953-05-18', '2121522', '38390', 67, 'CENTRALINA', 'Organization/61189445000156'), (9999, '952e960f4149e89bf576ee66b2adf0af0ed2bf1d5c292513cf2c56420886dbae', 'ceddd540-57de-4f42-bd3e-0b292b40759d-i0b0', '240260', '9', '2021-04-22T20:44:24.594Z', 'SECRETARIA MUNICIPAL DE SAUDE', '86', '240260', 'B', 'Trabalhadores de Saúde', '000926', 'BRASIL', '2021-02-05T00:00:00.000Z', 'CEARA-MIRIM', '10', '202010028', 'RN + Vacina', 'Covid-19-Coronavac-Sinovac/Butantan', '1', 'RN', 'UBS COHAB', 'Outros', 'FUNDACAO BUTANTAN', 'RN', '03', '\\xa0\\xa0\\xa0\\xa01ª\\xa0Dose', 'PARDA', 'M', '2021-03-19 18:32:20', '17862', '1982-10-02', '3899209', '59570', 38, 'CEARA-MIRIM', None))\n",
            "2021-05-03 18:50:02,997 INFO sqlalchemy.engine.Engine COMMIT\n",
            "2021-05-03 18:50:03,045 INFO sqlalchemy.engine.Engine SELECT name FROM sqlite_master WHERE type='table' ORDER BY name\n",
            "2021-05-03 18:50:03,047 INFO sqlalchemy.engine.Engine [raw sql] ()\n"
          ],
          "name": "stdout"
        }
      ]
    },
    {
      "cell_type": "code",
      "metadata": {
        "id": "IjVlo-7wkNpR"
      },
      "source": [
        "sqlite_connection.close()"
      ],
      "execution_count": 71,
      "outputs": []
    },
    {
      "cell_type": "code",
      "metadata": {
        "id": "DSgmZC2WkSjS"
      },
      "source": [
        ""
      ],
      "execution_count": null,
      "outputs": []
    }
  ]
}